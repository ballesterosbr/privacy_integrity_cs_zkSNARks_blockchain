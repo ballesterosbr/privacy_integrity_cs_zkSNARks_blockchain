{
 "cells": [
  {
   "cell_type": "code",
   "execution_count": 1,
   "metadata": {},
   "outputs": [
    {
     "name": "stderr",
     "output_type": "stream",
     "text": [
      "2024-04-12 17:52:26.796049: I tensorflow/tsl/cuda/cudart_stub.cc:28] Could not find cuda drivers on your machine, GPU will not be used.\n",
      "2024-04-12 17:52:26.858339: I tensorflow/tsl/cuda/cudart_stub.cc:28] Could not find cuda drivers on your machine, GPU will not be used.\n",
      "2024-04-12 17:52:27.945137: W tensorflow/compiler/tf2tensorrt/utils/py_utils.cc:38] TF-TRT Warning: Could not find TensorRT\n"
     ]
    }
   ],
   "source": [
    "from tensorflow.keras.layers import Input, Conv2D, AveragePooling2D, Flatten, Lambda, Softmax, Dense\n",
    "from tensorflow.keras import Model\n",
    "from tensorflow.keras.datasets import mnist\n",
    "from tensorflow.keras.utils import to_categorical\n",
    "import numpy as np\n",
    "import matplotlib.pyplot as plt\n",
    "import tensorflow as tf\n",
    "import json"
   ]
  },
  {
   "cell_type": "code",
   "execution_count": 2,
   "metadata": {},
   "outputs": [],
   "source": [
    "(X_train, y_train), (X_test, y_test) = mnist.load_data()"
   ]
  },
  {
   "cell_type": "code",
   "execution_count": 3,
   "metadata": {},
   "outputs": [],
   "source": [
    "temp = []\n",
    "for i in range(len(y_train)):\n",
    "    temp.append(to_categorical(y_train[i], num_classes=10))\n",
    "y_train = np.array(temp)\n",
    "temp = []\n",
    "for i in range(len(y_test)):    \n",
    "    temp.append(to_categorical(y_test[i], num_classes=10))\n",
    "y_test = np.array(temp)"
   ]
  },
  {
   "cell_type": "code",
   "execution_count": 4,
   "metadata": {},
   "outputs": [],
   "source": [
    "X_train = X_train.reshape(X_train.shape[0], 28, 28, 1)\n",
    "X_test = X_test.reshape(X_test.shape[0], 28, 28, 1)"
   ]
  },
  {
   "cell_type": "code",
   "execution_count": 5,
   "metadata": {},
   "outputs": [],
   "source": [
    "inputs = Input(shape=(28,28,1))\n",
    "out = Lambda(lambda x: x/1000)(inputs)\n",
    "out = Conv2D(4, 3)(out)\n",
    "out = Lambda(lambda x: x**2+x)(out)\n",
    "out = AveragePooling2D()(out)\n",
    "out = Lambda(lambda x: x*4)(out)\n",
    "out = Conv2D(8, 3)(out)\n",
    "out = Lambda(lambda x: x**2+x)(out)\n",
    "out = AveragePooling2D()(out)\n",
    "out = Lambda(lambda x: x*4)(out)\n",
    "out = Flatten()(out)\n",
    "out = Dense(10, activation=None)(out)\n",
    "out = Softmax()(out)\n",
    "full_model = Model(inputs, out)"
   ]
  },
  {
   "cell_type": "code",
   "execution_count": 6,
   "metadata": {},
   "outputs": [
    {
     "name": "stdout",
     "output_type": "stream",
     "text": [
      "Model: \"model\"\n",
      "_________________________________________________________________\n",
      " Layer (type)                Output Shape              Param #   \n",
      "=================================================================\n",
      " input_1 (InputLayer)        [(None, 28, 28, 1)]       0         \n",
      "                                                                 \n",
      " lambda (Lambda)             (None, 28, 28, 1)         0         \n",
      "                                                                 \n",
      " conv2d (Conv2D)             (None, 26, 26, 4)         40        \n",
      "                                                                 \n",
      " lambda_1 (Lambda)           (None, 26, 26, 4)         0         \n",
      "                                                                 \n",
      " average_pooling2d (AverageP  (None, 13, 13, 4)        0         \n",
      " ooling2D)                                                       \n",
      "                                                                 \n",
      " lambda_2 (Lambda)           (None, 13, 13, 4)         0         \n",
      "                                                                 \n",
      " conv2d_1 (Conv2D)           (None, 11, 11, 8)         296       \n",
      "                                                                 \n",
      " lambda_3 (Lambda)           (None, 11, 11, 8)         0         \n",
      "                                                                 \n",
      " average_pooling2d_1 (Averag  (None, 5, 5, 8)          0         \n",
      " ePooling2D)                                                     \n",
      "                                                                 \n",
      " lambda_4 (Lambda)           (None, 5, 5, 8)           0         \n",
      "                                                                 \n",
      " flatten (Flatten)           (None, 200)               0         \n",
      "                                                                 \n",
      " dense (Dense)               (None, 10)                2010      \n",
      "                                                                 \n",
      " softmax (Softmax)           (None, 10)                0         \n",
      "                                                                 \n",
      "=================================================================\n",
      "Total params: 2,346\n",
      "Trainable params: 2,346\n",
      "Non-trainable params: 0\n",
      "_________________________________________________________________\n"
     ]
    }
   ],
   "source": [
    "full_model.summary()"
   ]
  },
  {
   "cell_type": "code",
   "execution_count": 7,
   "metadata": {},
   "outputs": [],
   "source": [
    "full_model.compile(\n",
    "    loss='categorical_crossentropy',\n",
    "    optimizer='adam',\n",
    "    metrics=['acc']\n",
    "    )"
   ]
  },
  {
   "cell_type": "code",
   "execution_count": 8,
   "metadata": {},
   "outputs": [
    {
     "name": "stdout",
     "output_type": "stream",
     "text": [
      "Epoch 1/15\n",
      "469/469 [==============================] - 13s 24ms/step - loss: 0.5283 - acc: 0.8401 - val_loss: 0.1636 - val_acc: 0.9486\n",
      "Epoch 2/15\n",
      "469/469 [==============================] - 9s 19ms/step - loss: 0.1433 - acc: 0.9586 - val_loss: 0.1069 - val_acc: 0.9664\n",
      "Epoch 3/15\n",
      "469/469 [==============================] - 10s 21ms/step - loss: 0.1099 - acc: 0.9675 - val_loss: 0.0891 - val_acc: 0.9737\n",
      "Epoch 4/15\n",
      "469/469 [==============================] - 10s 22ms/step - loss: 0.0950 - acc: 0.9721 - val_loss: 0.0765 - val_acc: 0.9771\n",
      "Epoch 5/15\n",
      "469/469 [==============================] - 9s 19ms/step - loss: 0.0866 - acc: 0.9738 - val_loss: 0.0733 - val_acc: 0.9773\n",
      "Epoch 6/15\n",
      "469/469 [==============================] - 9s 19ms/step - loss: 0.0788 - acc: 0.9766 - val_loss: 0.0667 - val_acc: 0.9793\n",
      "Epoch 7/15\n",
      "469/469 [==============================] - 9s 19ms/step - loss: 0.0736 - acc: 0.9777 - val_loss: 0.0670 - val_acc: 0.9795\n",
      "Epoch 8/15\n",
      "469/469 [==============================] - 9s 19ms/step - loss: 0.0683 - acc: 0.9793 - val_loss: 0.0602 - val_acc: 0.9818\n",
      "Epoch 9/15\n",
      "469/469 [==============================] - 9s 19ms/step - loss: 0.0660 - acc: 0.9799 - val_loss: 0.0585 - val_acc: 0.9818\n",
      "Epoch 10/15\n",
      "469/469 [==============================] - 10s 21ms/step - loss: 0.0624 - acc: 0.9812 - val_loss: 0.0581 - val_acc: 0.9832\n",
      "Epoch 11/15\n",
      "469/469 [==============================] - 10s 21ms/step - loss: 0.0601 - acc: 0.9820 - val_loss: 0.0570 - val_acc: 0.9822\n",
      "Epoch 12/15\n",
      "469/469 [==============================] - 9s 19ms/step - loss: 0.0574 - acc: 0.9827 - val_loss: 0.0570 - val_acc: 0.9826\n",
      "Epoch 13/15\n",
      "469/469 [==============================] - 9s 20ms/step - loss: 0.0554 - acc: 0.9833 - val_loss: 0.0559 - val_acc: 0.9836\n",
      "Epoch 14/15\n",
      "469/469 [==============================] - 9s 19ms/step - loss: 0.0535 - acc: 0.9837 - val_loss: 0.0555 - val_acc: 0.9834\n",
      "Epoch 15/15\n",
      "469/469 [==============================] - 9s 18ms/step - loss: 0.0516 - acc: 0.9840 - val_loss: 0.0505 - val_acc: 0.9851\n"
     ]
    },
    {
     "data": {
      "text/plain": [
       "<keras.callbacks.History at 0x7ec84b923af0>"
      ]
     },
     "execution_count": 8,
     "metadata": {},
     "output_type": "execute_result"
    }
   ],
   "source": [
    "full_model.fit(X_train, y_train, epochs=15, batch_size=128, validation_data=(X_test, y_test))"
   ]
  },
  {
   "cell_type": "code",
   "execution_count": 9,
   "metadata": {},
   "outputs": [
    {
     "data": {
      "text/plain": [
       "<matplotlib.image.AxesImage at 0x7ec848309360>"
      ]
     },
     "execution_count": 9,
     "metadata": {},
     "output_type": "execute_result"
    },
    {
     "data": {
      "image/png": "[encoded data removed]",
      "text/plain": [
       "<Figure size 432x288 with 1 Axes>"
      ]
     },
     "metadata": {
      "needs_background": "light"
     },
     "output_type": "display_data"
    }
   ],
   "source": [
    "X = X_test[[0]]\n",
    "plt.imshow(X[0])"
   ]
  },
  {
   "cell_type": "code",
   "execution_count": 10,
   "metadata": {},
   "outputs": [],
   "source": [
    "model = Model(full_model.input, full_model.layers[-2].output)"
   ]
  },
  {
   "cell_type": "code",
   "execution_count": 11,
   "metadata": {},
   "outputs": [
    {
     "name": "stdout",
     "output_type": "stream",
     "text": [
      "1/1 [==============================] - 0s 103ms/step\n"
     ]
    }
   ],
   "source": [
    "y = model.predict(X) - model.weights[5].numpy()"
   ]
  },
  {
   "cell_type": "code",
   "execution_count": 12,
   "metadata": {},
   "outputs": [],
   "source": [
    "input_json = {\n",
    "    \"in\": X.astype(int).flatten().tolist(),\n",
    "    \"conv2d_1_weights\": (model.weights[0].numpy()*(10**3)).round().astype(int).flatten().tolist(),\n",
    "    \"conv2d_1_bias\": (model.weights[1].numpy()*(10**3)*(10**3)).round().astype(int).flatten().tolist(),\n",
    "    \"conv2d_2_weights\": (model.weights[2].numpy()*(10**3)).round().astype(int).flatten().tolist(),\n",
    "    \"conv2d_2_bias\": (model.weights[3].numpy()*((10**3)**5)).round().astype(int).flatten().tolist(),\n",
    "    \"dense_weights\":(model.weights[4].numpy()*(10**3)).round().astype(int).flatten().tolist(),\n",
    "    \"dense_bias\": np.zeros(model.weights[5].numpy().shape).tolist()\n",
    "}"
   ]
  },
  {
   "cell_type": "code",
   "execution_count": 13,
   "metadata": {},
   "outputs": [],
   "source": [
    "output_json = {\n",
    "    \"scale\": 10**-33,\n",
    "    \"out\": y.flatten().tolist(),\n",
    "    \"label\": int(y_test[0].argmax())\n",
    "}"
   ]
  },
  {
   "cell_type": "code",
   "execution_count": 14,
   "metadata": {},
   "outputs": [],
   "source": [
    "with open(\"CNN2_input.json\", \"w\") as file:\n",
    "    json.dump(input_json, file)"
   ]
  },
  {
   "cell_type": "code",
   "execution_count": 15,
   "metadata": {},
   "outputs": [],
   "source": [
    "with open(\"CNN2_output.json\", \"w\") as file:\n",
    "    json.dump(output_json, file)"
   ]
  }
 ],
 "metadata": {
  "interpreter": {
   "hash": "11280bdb37aa6bc5d4cf1e4de756386eb1f9eecd8dcdefa77636dfac7be2370d"
  },
  "kernelspec": {
   "display_name": "Python 3 (ipykernel)",
   "language": "python",
   "name": "python3"
  },
  "language_info": {
   "codemirror_mode": {
    "name": "ipython",
    "version": 3
   },
   "file_extension": ".py",
   "mimetype": "text/x-python",
   "name": "python",
   "nbconvert_exporter": "python",
   "pygments_lexer": "ipython3",
   "version": "3.10.13"
  }
 },
 "nbformat": 4,
 "nbformat_minor": 2
}
